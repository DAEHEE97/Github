{
 "cells": [
  {
   "cell_type": "markdown",
   "metadata": {},
   "source": [
    "# [Git-1](https://docs.github.com/kr)\n",
    "\n",
    "- Git은 VCS (Version Control System), 소프트웨어 버전 관리 시스템의 한 종류, 프로그램의 소스코드를 관리하는 프로그램"
   ]
  },
  {
   "cell_type": "markdown",
   "metadata": {},
   "source": [
    "---"
   ]
  },
  {
   "cell_type": "markdown",
   "metadata": {},
   "source": [
    "## git server & git client\n",
    "\n",
    "- git은 여러가지 버전 관리 시스템 중에서도, 분산된 환경을 통해 소스코드를 관리합니다.\n",
    " \n",
    " \n",
    "- 분산 환경 시스템에는 중앙 서버와 클라이언트가 존재하게 됩니다. \n",
    "    - 코드를 모아놓게되는 중앙 서버(원격 컴퓨터)를 remote server\n",
    "    - 코드들의 사본을 받아 개발하는 클라이언트 (개인/지역 컴퓨터)를 local client\n",
    "    - git client는 git server의 사본을 가지고 각자의 로컬 환경에서 개발을 할 수 있습니다.\n",
    "\n",
    " \n",
    "- git server \n",
    "    - ex) github.com, gitlab 등등\n",
    "    \n",
    "- git client\n",
    "    - ex) git CLI(Command-line interface), Visual Studio Code에 내장되어 있는 git"
   ]
  },
  {
   "cell_type": "markdown",
   "metadata": {},
   "source": [
    "---"
   ]
  },
  {
   "cell_type": "markdown",
   "metadata": {},
   "source": [
    "## Repository (리포지토리)\n",
    "\n",
    "- github상에서 우리의 프로그램을 담는 저장소\n",
    "    - 개발하는 프로젝트를 담는 폴더\n",
    "\n",
    "- Repository 에서는 우리 코드를 저장할 수 있을 뿐 아니라, 커밋 히스토리, pull request등 협업을 위한 여러 작업을 할 수 있습니다. "
   ]
  },
  {
   "cell_type": "markdown",
   "metadata": {},
   "source": [
    "---"
   ]
  },
  {
   "cell_type": "markdown",
   "metadata": {},
   "source": [
    "## git commit\n",
    "\n",
    "- commit은 git 에서 **로컬 환경에서 버전을 저장하는 것**\n",
    "\n",
    "    - commit history 을 통해 확인 가능"
   ]
  },
  {
   "cell_type": "markdown",
   "metadata": {},
   "source": [
    "---"
   ]
  },
  {
   "cell_type": "markdown",
   "metadata": {},
   "source": [
    "## git issues\n",
    "\n",
    "- issues에서는 'issue 생성'을 통해 해결하고 싶은 문제 를 업로드하고 의견을 달 수 있습니다.\n",
    "\n",
    "- 해당 이슈를 처리할 사람이 누구인지 Assignee 지정 가능\n",
    "\n",
    "- 해당 이슈가 어떤 것인지 알려주는 labels 지정 가능\n",
    "\n",
    "- comment 가능\n",
    "\n"
   ]
  },
  {
   "cell_type": "markdown",
   "metadata": {},
   "source": [
    "---"
   ]
  },
  {
   "cell_type": "markdown",
   "metadata": {},
   "source": [
    "## git clone\n",
    "\n",
    "- github의 repository의 내용을 내 로컬 환경(내 컴퓨터)에 복제하는 것 입니다.\n",
    "    - 로컬 환경에서 원격 환경의 github의 파일들을 받아서 개발을 할 수 있으며, 자동으로 git init이 됩니다.\n",
    "\n",
    "- `git clone`\n",
    "\n",
    "- `새창` - `GIT 리포지터리 복제 (Clone Git Repository)`\n"
   ]
  },
  {
   "cell_type": "markdown",
   "metadata": {},
   "source": [
    "---"
   ]
  },
  {
   "cell_type": "markdown",
   "metadata": {},
   "source": [
    "## git config\n",
    "\n",
    "\n",
    "\n",
    "- `git config -- global user.name egoing`\n",
    "\n",
    "- `git config -- global user.email egoing@gmail.co`\n",
    "\n",
    "\n",
    "<img src = \"img/0.png\" >\n",
    "\n",
    "\n",
    "- New 컴퓨터에서 Author 변경 할때 도 사용, 처음 DAEHEE HAN으로 할시, commit 기록은 안됨, `global config` 처리, 해결\n",
    "\n",
    "\n",
    "- 로컬 환경에서 작업 후 commit을 진행할 때, 누가 해당 커밋을 했는지 기록하고 확인할 필요가 있겠죠? \n",
    "    \n",
    "    - 해당 작업을 수행하는 git 명령어가 git config 입니다. \n",
    "    \n",
    "    - 이는 git config에 global 옵션, 해당 값을 기본값으로 활용하여 사용자의 이름, 사용자 이메일을 등록합니다.\n",
    "\n"
   ]
  },
  {
   "cell_type": "markdown",
   "metadata": {},
   "source": [
    "---"
   ]
  },
  {
   "cell_type": "markdown",
   "metadata": {},
   "source": [
    "## git push\n",
    "\n",
    "- 로컬 환경에서 개발을 하며 commit을 진행하고, `git push`를 통해 원격 저장소인 github 에 업로드 (로컬 환경에서 중간 중간 commit 했던 이력들 전부 업로드)"
   ]
  },
  {
   "cell_type": "markdown",
   "metadata": {},
   "source": [
    "---"
   ]
  },
  {
   "cell_type": "markdown",
   "metadata": {},
   "source": [
    "### git commit (local) vs git push (origin)\n",
    "\n",
    "\n",
    "- commit 이후, VS code 에서 sync change (변경 내용 동기화) 하면 자동 push \n",
    "\n",
    "- git commit\n",
    "\n",
    "<img src = \"img/1.png\">\n",
    "\n",
    "\n",
    "- git push\n",
    "\n",
    "\n",
    "<img src = \"img/2.png\">"
   ]
  },
  {
   "cell_type": "markdown",
   "metadata": {},
   "source": [
    "---"
   ]
  },
  {
   "cell_type": "markdown",
   "metadata": {},
   "source": [
    "## git pull\n",
    "\n",
    "- 우리가 로컬에서 개발을 하던 와중 다른 팀원이 본인의 작업물을 push 함으로 원격저장소에 변화가 생겼습니다.\n",
    "\n",
    "- `git pull` 이때 원격 저장소(remote server, git hub)의 내용을 현재 내 로컬 환경(local)에 반영하고, 합쳐 개발을 계속하고자 합니다. \n",
    "\n",
    "    - `git pull` == `fetch` + `merge` 가 동시에 진행되어, merge branch 생성되어 최신 상태 로 변경\n",
    "\n",
    "    - ex 1 ) right에서 아무 작업도 안한 상태에서, left가 올린 작업을 right가 pull 가능, 자동으로 fetch + merge 됨\n",
    "\n",
    "    - ex 2 ) right에서 commit 목록이 있다면(local commit, 내작업), left가 올린 작업을 right가 pull 바로 불가\n",
    "        - right에서 pull을 하게되면 fetch 만 적용 후, merge 작업 내가 직접 해야 함\n"
   ]
  },
  {
   "cell_type": "markdown",
   "metadata": {},
   "source": [
    "---"
   ]
  },
  {
   "cell_type": "markdown",
   "metadata": {},
   "source": [
    "## git fetch & git merge \n",
    "\n",
    "\n",
    "- fetch는 원격저장소에 있는 내용을 로컬 저장소로 가져옵니다. 우리가 로컬 환경에서 작업하던중 원격저장소의 내용을 팀원이 push 수정 했습니다. 이때 우리가 개발한 내용을 원격저장소에 push를 할려고 하면 거절됩니다. \n",
    "\n",
    "\n",
    "- 그 이유는 원격저장소에는 팀원의 수정사항이 반영이 되어 있고, 이때 우리의 push를 받는다면 팀원의 수정사항이 overwrite 이 되는 상황이기 때문이죠.\n",
    "\n",
    "\n",
    "     - sol 1. right에서 시작 작업 전에, 맨 처음에 pull (fetch + merge)를 진행, right 작업 시작 commit, push\n",
    "     \n",
    "     - sol 2. right에서 작업 을 한 상태(commit)라면, pull(fetch)를 진행 하여, 두 브랜치를 비교후 merge 후, push\n",
    " \n",
    "\n",
    "- 이를 통해 로컬 저장소와 원격 저장소와의 차이를 비교할 수 있으며, 충돌되는 상황이 발생하지는 않는지, 충돌한다면 이를 어떻게 해결하면 좋을지를 확인 한 후, merge를 통해 두 브랜치를 병합합니다. "
   ]
  },
  {
   "cell_type": "markdown",
   "metadata": {},
   "source": [
    "---"
   ]
  },
  {
   "cell_type": "markdown",
   "metadata": {},
   "source": [
    "\n",
    "\n",
    "<img src = \"img/3.png\">\n",
    "\n",
    "1. left, right 각 자 로컬 환경에서 commit 이후, left 만 원격으로 push"
   ]
  },
  {
   "cell_type": "markdown",
   "metadata": {},
   "source": [
    "<img src = \"img/4.png\">\n",
    "\n",
    "2. 이 상태로 right가 push하면, overwrite 에러 발생 (git rejected) \n",
    "    - left가 원격에 push 한 상태에서 right도 push를 바로 하게 되면, 겹치게 되서 error\n",
    "\n",
    "\n",
    "- pull = fetch + merge\n"
   ]
  },
  {
   "cell_type": "markdown",
   "metadata": {},
   "source": [
    "<img src = \"img/5.png\">\n",
    "\n",
    "- left에서 push 수행 이후 , right에서 push 수행 시 거절 상태  - git rejected\n"
   ]
  },
  {
   "cell_type": "markdown",
   "metadata": {},
   "source": [
    "\n",
    "\n",
    "<img src = \"img/6.png\">\n",
    "\n",
    "\n",
    "3. 따라서 right 가 push 전에, left가 원격으로 push 했던 작업들을, right 가 pull(fetch) 을 먼저 해야합니다.\n",
    "\n"
   ]
  },
  {
   "cell_type": "markdown",
   "metadata": {},
   "source": [
    "\n",
    "<img src = \"img/7.png\">\n",
    "\n",
    "4. 기존 right 작업(commit) 상태 로  merge 했으므로, left꺼 그대로 가져옴. 이제 push 가능\n"
   ]
  },
  {
   "cell_type": "markdown",
   "metadata": {},
   "source": [
    "---"
   ]
  },
  {
   "cell_type": "markdown",
   "metadata": {},
   "source": [
    "\n",
    "\n",
    "## git init\n",
    "\n",
    "\n",
    "- `git init` 명령어는 새로운 Git 저장소를 초기화하여, **로컬 저장소를 Git으로 관리할 수 있도록 설정하는 명령어**입니다. \n",
    "\n",
    "\n",
    "- 이 명령어를 실행하면, 현재 디렉토리를 Git 저장소로 설정하고 `.git`이라는 하위 디렉토리를 생성합니다.\n",
    "\n",
    "\n",
    "- `.git` 디렉토리에는 Git 저장소에 필요한 파일과 정보가 저장됩니다. \n",
    "\n",
    "\n",
    "- 이제 파일을 추가하고 커밋하면, Git은 이 정보를 .git 디렉토리에 저장하고 버전 관리를 할 수 있습니다. \n",
    "\n",
    "\n",
    "- 이렇게 초기화된 로컬 저장소를 다른 원격 저장소와 연동(`git remote`)하여 협업이나 백업 등의 작업을 수행할 수 있습니다.\n",
    "\n",
    "\n",
    "\n",
    "    - 1. Terminal : `git init`\n",
    "\n",
    "\n",
    "    - 2. VS code : 새로운 파일, 소스제어, 리포지토리 초기화 (`Initialize Repository`)\n",
    " "
   ]
  },
  {
   "cell_type": "markdown",
   "metadata": {},
   "source": [
    "---"
   ]
  },
  {
   "cell_type": "markdown",
   "metadata": {},
   "source": [
    "## git add\n",
    "\n",
    "\n",
    "- `git add` : commit을 할 때 여러 파일의 수정사항 을 한번에 commit 하여 기록해도 좋지만, 한 개의 파일당 하나씩 commit 하여, 수정 사항을 detail 하게 memo 뿐만 아니라 다른 팀원들이 commit history를 볼 때 조금 더 수월하게 할 수 있습니다.\n",
    "\n",
    "    - `git add` :  git commit에 포함될 파일을 지정합니다. \n",
    "\n",
    "    - `git add .` : 여러개 파일 한번 에 설정\n",
    "\n",
    "\n",
    "- git add를 통해 하나의 파일을 지정하면, working directory에 있는 파일을 stage에 올린다 (스테이징) 합니다.\n",
    "\n",
    "- staging area : add를 통해 commit 할 파일들을 올려 놓는 공간 \n"
   ]
  },
  {
   "cell_type": "markdown",
   "metadata": {},
   "source": [
    "---"
   ]
  },
  {
   "cell_type": "markdown",
   "metadata": {},
   "source": [
    "## 버전 분리\n",
    "\n",
    "- working directory : .git (Repository) 을 제외한 디렉토리 실제 작업 환경\n",
    "\n",
    "- staging area : add (올려 놓음)\n",
    "\n",
    "- commited area : commited (커밋 완료)\n",
    "\n",
    "\n",
    "1. working directory 에서 work1, work2, work3 파일 수정 작업\n",
    "\n",
    "2. work1, work2 2개의 파일만 `git add (Staged Changed )` 스테이징\n",
    "\n",
    "3. 커밋 시 work1, work2 만 커밋 됩니다.\n",
    "\n"
   ]
  },
  {
   "cell_type": "markdown",
   "metadata": {},
   "source": [
    "---"
   ]
  },
  {
   "cell_type": "markdown",
   "metadata": {},
   "source": [
    "---"
   ]
  },
  {
   "cell_type": "markdown",
   "metadata": {},
   "source": [
    "## git checkout ( 버전 이동 )\n",
    " \n",
    "\n",
    "- `git checkout` 을 활용해 기존의 commit hisotry에 있는 버전으로 저장소를 변경한 후, 오류를 수정한 다음 다시 commit을 통해 버전을 업데이트 할수 있습니다.\n",
    "\n",
    "\n",
    "    - `o` head 는 현재 working directory가 어느 버전인지를 가리킵니다.\n",
    "\n",
    "    - `o` head 를 변경(git check)하여, 버전 변경\n",
    "\n",
    "    - check out은 `o` head를 바꾼다 는 것과 같습니다.\n",
    "\n",
    "    - main 는 기본 브랜치로 최신 버전이 어디었는지 가리킵니다.\n",
    "\n",
    "\n",
    "- 빈칸 check out\n",
    "\n",
    "<img src = \"img/8.png\">\n",
    "\n",
    "- main check out\n",
    "\n",
    "<img src = \"img/9.png\">\n",
    "\n",
    "\n",
    "- check out으로 이전 버전으로 이동 후, main으로 옮길때는 빈칸을 클릭하고 check out g하는게 아니라 main을 직접 클릭해서 check out 해야 합니다."
   ]
  },
  {
   "cell_type": "markdown",
   "metadata": {},
   "source": [
    "---"
   ]
  },
  {
   "cell_type": "markdown",
   "metadata": {},
   "source": [
    "## git remote\n",
    "\n",
    "\n",
    "- 선 원격 후 로컬 이 아닌, 선 로컬 후 원격 \n",
    "\n",
    "- 이때 원격은 빈 상태여야 합니다.\n",
    "\n",
    "- 이제 로컬 저장소에서 원격 저장소를 에드 시켜야 합니다. `Add remote`(원격 추가)\n",
    "\n",
    "\n",
    "<img src = \"img/10.png\">\n",
    "\n",
    "\n",
    "- 이때 remote name은 origin 으로 설정 후 push\n",
    "\n",
    "- 여기서 origin 은 원격 저장소를 가리키는 별칭(alias) 이름(주소) 입니다.\n",
    "\n",
    "\n",
    "git pull origin main' 명령어는 'origin'이라는 별칭(alias)으로 등록된 원격 저장소에서 'main' 브랜치를 가져와서 현재 로컬 브랜치와 병합하는 명령어입니다.\n",
    "\n",
    "\n",
    "\n",
    "\n",
    "<img src = \"img/11.png\">\n",
    "\n",
    "\n",
    "\n"
   ]
  },
  {
   "cell_type": "markdown",
   "metadata": {},
   "source": [
    "---"
   ]
  },
  {
   "cell_type": "markdown",
   "metadata": {},
   "source": [
    "### `o head ->main` vs `origin/main `\n",
    "\n",
    "\n",
    "\n",
    "- terminal `git log --oneline`\n",
    "\n",
    "\n",
    "<img src = \"img/12.png\">\n",
    "\n",
    "\n",
    "HEAD는 main을 가리키고 있습니다.\n",
    "\n",
    "origin/main 원격 저장소의 주소도 main을 가리키고 있습니다.\n"
   ]
  },
  {
   "cell_type": "markdown",
   "metadata": {},
   "source": [
    "---"
   ]
  },
  {
   "cell_type": "markdown",
   "metadata": {},
   "source": [
    "### work 5 commit \n",
    "\n",
    "<img src = \"img/13.png\">\n",
    "\n",
    "\n",
    "- working dir 가 현재 어디인지 가리키는 `o` Head 는 main 브랜치에 work5를 가리키고 있고, 원격 저장소(remote)의 주소를 가리키는 `origin` 은 main 브랜치에 work4 상태를 나타내고 있습니다.\n"
   ]
  },
  {
   "cell_type": "markdown",
   "metadata": {},
   "source": [
    "<img src = \"img/14.png\">\n",
    "\n",
    "- 즉 아직 push하지 않은 상태로, 현재 working dir 를 push 하여, 원격 저장소(remote)를 업데이트 할 수 있습니다."
   ]
  },
  {
   "cell_type": "markdown",
   "metadata": {},
   "source": [
    "---"
   ]
  },
  {
   "cell_type": "markdown",
   "metadata": {},
   "source": [
    "---"
   ]
  },
  {
   "cell_type": "markdown",
   "metadata": {},
   "source": [
    "---"
   ]
  },
  {
   "cell_type": "markdown",
   "metadata": {},
   "source": [
    "---"
   ]
  },
  {
   "cell_type": "markdown",
   "metadata": {},
   "source": [
    "---"
   ]
  },
  {
   "cell_type": "markdown",
   "metadata": {},
   "source": [
    "---"
   ]
  },
  {
   "cell_type": "markdown",
   "metadata": {},
   "source": [
    "---"
   ]
  },
  {
   "cell_type": "markdown",
   "metadata": {},
   "source": [
    "---"
   ]
  }
 ],
 "metadata": {
  "hide_input": false,
  "kernelspec": {
   "display_name": "Python 3 (ipykernel)",
   "language": "python",
   "name": "python3"
  },
  "language_info": {
   "codemirror_mode": {
    "name": "ipython",
    "version": 3
   },
   "file_extension": ".py",
   "mimetype": "text/x-python",
   "name": "python",
   "nbconvert_exporter": "python",
   "pygments_lexer": "ipython3",
   "version": "3.8.16"
  },
  "toc": {
   "base_numbering": 1,
   "nav_menu": {},
   "number_sections": true,
   "sideBar": true,
   "skip_h1_title": false,
   "title_cell": "Table of Contents",
   "title_sidebar": "Contents",
   "toc_cell": false,
   "toc_position": {
    "height": "calc(100% - 180px)",
    "left": "10px",
    "top": "150px",
    "width": "211.59375px"
   },
   "toc_section_display": true,
   "toc_window_display": true
  },
  "varInspector": {
   "cols": {
    "lenName": 16,
    "lenType": 16,
    "lenVar": 40
   },
   "kernels_config": {
    "python": {
     "delete_cmd_postfix": "",
     "delete_cmd_prefix": "del ",
     "library": "var_list.py",
     "varRefreshCmd": "print(var_dic_list())"
    },
    "r": {
     "delete_cmd_postfix": ") ",
     "delete_cmd_prefix": "rm(",
     "library": "var_list.r",
     "varRefreshCmd": "cat(var_dic_list()) "
    }
   },
   "types_to_exclude": [
    "module",
    "function",
    "builtin_function_or_method",
    "instance",
    "_Feature"
   ],
   "window_display": false
  }
 },
 "nbformat": 4,
 "nbformat_minor": 4
}
