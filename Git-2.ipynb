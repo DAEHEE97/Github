{
 "cells": [
  {
   "cell_type": "markdown",
   "id": "b33f9a87",
   "metadata": {},
   "source": [
    "# [Git-2](https://docs.github.com/kr)\n"
   ]
  },
  {
   "cell_type": "markdown",
   "id": "f42d0753",
   "metadata": {},
   "source": [
    "---"
   ]
  },
  {
   "cell_type": "markdown",
   "id": "2083944c",
   "metadata": {},
   "source": [
    "## git Branch\n",
    "\n",
    "- branch : 새로운 기능 구현이나 debug 시 독립된 환경에서 작업을 진행\n",
    "\n",
    "- 프로젝트 개발시 각 팀별로 버전을 관리할 필요성\n",
    "    - 데이터를 전처리하고 저장을 하는 팀, 모델을 개발하는팀, 모델을 서빙하는 팀\n",
    "\n",
    "- 브랜치(branch)는 프로젝트을 바탕으로 독립적으로 개발을 할 수 있을 수 있는 저장소(작업영역)\n",
    "    - 이후 개발이 완성되면 프로젝트에 병합을 시켜, 새로운 버전울 생성하여 다른 팀원들과 충돌 나지 않으면서 프로젝트를 진행\n",
    "\n",
    "\n",
    "- 저장소를 처음 만들 때 동시에 만들어지며, 전체 개발 프로젝트 version을 관리하는 branch를 master branch라 합니다. \n",
    "    - 이후 기능 개발 시 master branch를 바탕으로 하거나 혹은 다른 branch를 바탕으로 또 다른 branch를 생성해 독립적으로 개발을 진행할 수 있습니다.\n",
    "\n",
    "\n",
    "\n",
    "1. create branch\n",
    "\n",
    "2. `o` Head 가 exp branch를 가리키도록 check out\n",
    "\n",
    "3. exp 작업 수행\n",
    "\n",
    "4. `o` Head 가 main branch를 가리키도록 check out\n",
    "\n",
    "5. main 작업 수행\n",
    "\n",
    "6. main branch 와 exp branch를 이동(check out) 하면서 작업 가능\n",
    "\n",
    "7. main branch 와 exp branch 모두 push 가능\n",
    "\n"
   ]
  },
  {
   "cell_type": "markdown",
   "id": "04e028c3",
   "metadata": {},
   "source": [
    "---"
   ]
  },
  {
   "cell_type": "markdown",
   "id": "41999999",
   "metadata": {},
   "source": [
    "## Merge into current branch\n",
    "\n",
    "-  branch 를 생성해 새로운 기능을 구현하거나 debug 등 작업을 한 이후, 전체 개발 프로젝트 (master branch) 에 합치는 작업\n",
    "    - `Merge into current branch`를 통해 master branch에 개별 작업한 branch를 병합합니다. \n",
    "    - 이후 필요하지 않은 branch는 delete를 할 수 있습니다. \n",
    "\n",
    "- 이떄는 merge 방향이 중요 합니다.\n",
    "    - main branch 작업과 exp branch 작업을 merge\n",
    "\n"
   ]
  },
  {
   "cell_type": "markdown",
   "id": "bb53a71d",
   "metadata": {},
   "source": [
    "---"
   ]
  },
  {
   "cell_type": "markdown",
   "id": "ce2fe23f",
   "metadata": {},
   "source": [
    "### Merge - main이 exp를 병합하려는가 \n",
    " \n",
    "1. main 브랜치 check out\n",
    "\n",
    "2. exp 브랜치에서 merge into current branch,"
   ]
  },
  {
   "cell_type": "markdown",
   "id": "48b17c21",
   "metadata": {},
   "source": [
    "---"
   ]
  },
  {
   "cell_type": "markdown",
   "id": "60125199",
   "metadata": {},
   "source": [
    "### Merge - if 충돌 \n",
    "\n",
    "3. 현재 변경 사항 : main, 수신 변경 사항 : exp\n",
    "    - exp 브랜치에서 작업했던 file 생성\n",
    "    - exp 브랜치 작업과 main 브랜치 작업 비교\n",
    "     \n",
    "     \n",
    "4. 충돌 (공동 작업이 있다면), 비교 후 accept \n",
    "\n",
    "\n",
    "5. 충돌 해결 파일 add (스테이징) 후 commit \n",
    "\n",
    "<img src = \"img/15.png\">\n"
   ]
  },
  {
   "cell_type": "markdown",
   "id": "a00254b3",
   "metadata": {},
   "source": [
    "---"
   ]
  },
  {
   "cell_type": "markdown",
   "id": "82471aa0",
   "metadata": {},
   "source": [
    "### 2. exp가 main을 병합하려는가\n",
    "\n",
    "<img src = \"img/16.png\">"
   ]
  },
  {
   "cell_type": "markdown",
   "id": "1c7587e2",
   "metadata": {},
   "source": [
    "---"
   ]
  },
  {
   "cell_type": "markdown",
   "id": "7fe7dd80",
   "metadata": {},
   "source": [
    "\n",
    "## git remote\n",
    "\n",
    "\n",
    "- 선 원격 후 로컬 이 아닌, 선 로컬 후 원격 \n",
    "\n",
    "- 이때 원격은 빈 상태여야 합니다.\n",
    "\n",
    "- 이제 로컬 저장소에서 원격 저장소를 에드 시켜야 합니다. `Add remote`(원격 추가)\n",
    "\n",
    "\n",
    "<img src = \"img/10.png\">\n",
    "\n",
    "\n",
    "- 이때 remote name은 origin 으로 설정 후 push\n",
    "\n",
    "- 여기서 origin 은 원격 저장소를 가리키는 별칭(alias) 이름(주소) 입니다.\n",
    "\n",
    "\n",
    "git pull origin main' 명령어는 'origin'이라는 별칭(alias)으로 등록된 원격 저장소에서 'main' 브랜치를 가져와서 현재 로컬 브랜치와 병합하는 명령어입니다.\n",
    "\n",
    "\n",
    "\n",
    "\n",
    "<img src = \"img/11.png\">\n",
    "\n",
    "\n",
    "\n"
   ]
  },
  {
   "cell_type": "markdown",
   "id": "ee66b4f7",
   "metadata": {},
   "source": [
    "---"
   ]
  },
  {
   "cell_type": "markdown",
   "id": "aeccd229",
   "metadata": {},
   "source": [
    "### git remote - `o head ->main` vs `origin/main `\n",
    "\n",
    "- terminal `git log --oneline`\n",
    "\n",
    "\n",
    "<img src = \"img/12.png\">\n",
    "\n",
    "\n",
    "HEAD는 main을 가리키고 있습니다.\n",
    "\n",
    "origin/main 원격 저장소의 주소도 main을 가리키고 있습니다.\n"
   ]
  },
  {
   "cell_type": "markdown",
   "id": "c1b0859c",
   "metadata": {},
   "source": [
    "---"
   ]
  },
  {
   "cell_type": "markdown",
   "id": "aea7c7a5",
   "metadata": {},
   "source": [
    "### git remote - work 5 commit \n",
    "\n",
    "<img src = \"img/13.png\">\n",
    "\n",
    "\n",
    "- working dir 가 현재 어디인지 가리키는 `o` Head 는 main 브랜치에 work5를 가리키고 있고, 원격 저장소(remote)의 주소를 가리키는 `origin` 은 main 브랜치에 work4 상태를 나타내고 있습니다.\n",
    "\n",
    "<img src = \"img/14.png\">\n",
    "\n",
    "- 즉 아직 push하지 않은 상태로, 현재 working dir 를 push 하여, 원격 저장소(remote)를 업데이트 할 수 있습니다."
   ]
  },
  {
   "cell_type": "markdown",
   "id": "94076bae",
   "metadata": {},
   "source": [
    "---"
   ]
  },
  {
   "cell_type": "markdown",
   "id": "ededcd3d",
   "metadata": {},
   "source": [
    "## conflict\n",
    "\n",
    "- conflict : git 시스템을 통한 branch 병합 도중에 나타나는 충돌 현상\n",
    "\n",
    "- 충돌 해결 후 add, commit 과정 후, push \n",
    "\n",
    "- 원격 저장소의 내용을 내려 받았을 때, 충돌이 발생 한 경우 세 가지 경우 중 하나를 선택 하여 다시 commit해서 통합된 버전을 만드는 것인데요. \n",
    " \n",
    "    1. 원격 저장소의 코드를 수용하는 경우 (남이 만든 코드를 반영)\n",
    "\n",
    "    2. 지역 저장소의 코드를 반영하는 경우 (내가 만든 코드를 반영)\n",
    "\n",
    "    3. 두 가지를 모두 반영하는 경우 (두 가지를 다 고려하여 수정)\n",
    "\n"
   ]
  },
  {
   "cell_type": "markdown",
   "id": "dfe25f7c",
   "metadata": {},
   "source": [
    "---"
   ]
  },
  {
   "cell_type": "markdown",
   "id": "0f59db7c",
   "metadata": {},
   "source": [
    "## Pull request (PR)\n",
    "\n",
    "- Pull request : 우리가 적용한 코드를 바로 원격 저장소(remote)에 올리기 전, 팀원들과 커뮤니케이션 및 검토를 위한 요청할 수 있는 기능\n",
    "\n",
    "    - master 브랜치에 직접 push하는 것이 아닌, master 브랜치로 부터 New branch(새로운 브랜치)를 만든 다음, 개발 내역을 해당 브랜치에 적용 후, 그 내용이 master 에 반영되기 전 검토를 해달라는 요청을 보내어 팀원들과 커뮤니케이션, 리뷰, 검토를 마친 후 반영\n",
    "    \n",
    "    - merge request 라고도 함\n",
    "    \n",
    "    - 엄격하게 관리 될 수도 있고, 아니면 간단한 리뷰를 통해서도 가능"
   ]
  },
  {
   "cell_type": "markdown",
   "id": "9764f2af",
   "metadata": {},
   "source": [
    "---"
   ]
  },
  {
   "cell_type": "markdown",
   "id": "3e9984dd",
   "metadata": {},
   "source": [
    "## Pull request & Conflict\n",
    "\n",
    "- pull request를 올린 상황에서 발생한 conflict (pull request를 올리고 난 이후 우리는 조금 더 작업을 진행 중 충돌)\n",
    "\n",
    "- 최신화된 master 브랜치를 \"right\" 브랜치에 pull 한 다음 다시 push 하면 해결"
   ]
  },
  {
   "cell_type": "markdown",
   "id": "f00ae582",
   "metadata": {},
   "source": [
    "---"
   ]
  },
  {
   "cell_type": "markdown",
   "id": "1390c3dc",
   "metadata": {},
   "source": [
    "## git fork\n",
    "\n",
    "\n",
    "팀원의 레포지토리를 한 번에 자신의 레포지토리로 복사하는 방법은 두 가지가 있습니다. 첫 번째는 레포지토리를 포크(Fork)하는 것이고, 두 번째는 레포지토리를 클론하여 새로운 원격 레포지토리로 추가하는 것입니다.\n",
    "\n",
    "1. 포크(Fork) 방법:\n",
    "   - 팀원의 레포지토리 페이지로 이동합니다.\n",
    "   - 페이지 상단 오른쪽에 있는 \"Fork\" 버튼을 클릭하여 팀원의 레포지토리를 자신의 계정으로 포크합니다. 이렇게 하면 팀원의 레포지토리가 자신의 GitHub 계정으로 복사됩니다.\n",
    "   - 포크가 완료되면, 자신의 레포지토리에서 해당 프로젝트를 클론하여 작업할 수 있습니다.\n",
    "\n",
    "2. 클론 및 새로운 원격 레포지토리 추가 방법:\n",
    "   - 자신의 레포지토리에서 \"New\" 버튼을 클릭하여 새로운 레포지토리를 생성합니다.\n",
    "   - 생성된 레포지토리를 클론하여 로컬에 가져옵니다.\n",
    "   - 다음 명령어를 사용하여 팀원의 레포지토리를 자신의 레포지토리로 추가합니다:\n",
    "   \n",
    "     ```\n",
    "     git remote add upstream <팀원의 레포지토리 URL>\n",
    "     ```\n",
    "   \n",
    "   - 이제 `git fetch upstream`와 `git merge upstream/main` 등의 Git 명령어를 사용하여 팀원의 레포지토리에서 최신 변경사항을 가져와 자신의 레포지토리에 적용할 수 있습니다.\n",
    "\n",
    "이러한 방법을 통해 팀원의 레포지토리를 자신의 레포지토리로 한 번에 복사하고 작업할 수 있습니다. 포크 방법은 GitHub에서 기본적으로 제공되는 기능이며, 클론 및 원격 레포지토리 추가 방법은 좀 더 수동적인 방법입니다. 선택은 개발자의 환경과 선호도에 따라 결정할 수 있습니다.\n",
    "\n",
    "\n",
    "---\n",
    "\n",
    "1. 포크(Fork):\n",
    "\n",
    "   - 포크는 GitHub에서 제공하는 기능으로, 다른 사용자의 레포지토리를 자신의 계정으로 복사합니다.\n",
    "   - 포크한 레포지토리는 완전히 독립적인 새로운 레포지토리로 취급됩니다. 별도의 원격 레포지토리로 관리됩니다.\n",
    "   - 포크한 레포지토리는 원본 레포지토리와 독립적으로 변경할 수 있습니다. 따라서 포크한 후에는 원본 레포지토리와는 별개의 작업을 수행할 수 있습니다.\n",
    "   - 포크한 레포지토리의 변경사항은 원본 레포지토리에 영향을 주지 않습니다. 따라서 포크한 레포지토리의 변경사항을 별도의 pull request를 통해 원본 레포지토리에 반영할 수 있습니다.\n",
    "\n",
    "2. 클론(Clone):\n",
    "\n",
    "   - 클론은 Git의 기능으로, Git 레포지토리를 로컬로 복제합니다.\n",
    "   - 클론한 레포지토리는 원본 레포지토리의 정확한 복사본이며, 원본과 동일한 커밋 기록을 가지고 있습니다.\n",
    "   - 클론한 레포지토리는 로컬에서 작업을 수행할 수 있습니다. 변경사항은 로컬 레포지토리에 저장되며, 필요에 따라 원격 레포지토리로 푸시(push)할 수 있습니다.\n",
    "   - 클론은 원본 레포지토리와 연결되어 있으므로, 원본 레포지토리의 변경사항을 가져오거나 병합할 수 있습니다. 이를 통해 최신 변경사항을 유지하면서 작업을 수행할 수 있습니다.\n",
    "\n",
    "요약하면, 포크는 GitHub에서 제공하는 기능으로, 다른 사용자의 레포지토리를 자신의 계정으로 복사하여 독립적으로 관리하는 방법입니다. 클론은 Git의 기능으로, 로컬로 레포지\n",
    "\n",
    "토리를 복제하여 원본과 연결된 상태에서 작업을 수행하는 방법입니다."
   ]
  },
  {
   "cell_type": "markdown",
   "id": "fb3974a3",
   "metadata": {},
   "source": [
    "---"
   ]
  }
 ],
 "metadata": {
  "kernelspec": {
   "display_name": "Python 3 (ipykernel)",
   "language": "python",
   "name": "python3"
  },
  "language_info": {
   "codemirror_mode": {
    "name": "ipython",
    "version": 3
   },
   "file_extension": ".py",
   "mimetype": "text/x-python",
   "name": "python",
   "nbconvert_exporter": "python",
   "pygments_lexer": "ipython3",
   "version": "3.8.16"
  },
  "toc": {
   "base_numbering": 1,
   "nav_menu": {},
   "number_sections": true,
   "sideBar": true,
   "skip_h1_title": false,
   "title_cell": "Table of Contents",
   "title_sidebar": "Contents",
   "toc_cell": false,
   "toc_position": {},
   "toc_section_display": true,
   "toc_window_display": false
  },
  "varInspector": {
   "cols": {
    "lenName": 16,
    "lenType": 16,
    "lenVar": 40
   },
   "kernels_config": {
    "python": {
     "delete_cmd_postfix": "",
     "delete_cmd_prefix": "del ",
     "library": "var_list.py",
     "varRefreshCmd": "print(var_dic_list())"
    },
    "r": {
     "delete_cmd_postfix": ") ",
     "delete_cmd_prefix": "rm(",
     "library": "var_list.r",
     "varRefreshCmd": "cat(var_dic_list()) "
    }
   },
   "types_to_exclude": [
    "module",
    "function",
    "builtin_function_or_method",
    "instance",
    "_Feature"
   ],
   "window_display": false
  }
 },
 "nbformat": 4,
 "nbformat_minor": 5
}
